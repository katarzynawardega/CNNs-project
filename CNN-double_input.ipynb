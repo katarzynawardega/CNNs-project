{
 "cells": [
  {
   "cell_type": "code",
   "execution_count": 1,
   "metadata": {},
   "outputs": [
    {
     "name": "stderr",
     "output_type": "stream",
     "text": [
      "Using TensorFlow backend.\n"
     ]
    }
   ],
   "source": [
    "import matplotlib.pyplot as plt\n",
    "%matplotlib inline\n",
    "\n",
    "import sep\n",
    "import math\n",
    "import keras\n",
    "from keras.utils import np_utils\n",
    "\n",
    "import numpy as np\n",
    "from astropy.io import fits\n",
    "from astropy.visualization import ZScaleInterval\n",
    "from astropy import wcs\n",
    "from astropy.wcs import WCS\n",
    "from astropy.coordinates import SkyCoord\n",
    "\n",
    "import random \n",
    "import aplpy\n",
    "from astroquery.sdss import SDSS\n",
    "\n",
    "from sklearn.metrics import accuracy_score\n",
    "\n",
    "np.random.seed(123)  # for reproducibility"
   ]
  },
  {
   "cell_type": "markdown",
   "metadata": {},
   "source": [
    "Downloading data"
   ]
  },
  {
   "cell_type": "code",
   "execution_count": 12,
   "metadata": {},
   "outputs": [],
   "source": [
    "data_galaxy = np.load('datasets/galaxy_ic4559_images_scaled.npy')\n",
    "labels_galaxy = np.load('datasets/galaxy_ic4559_labels_scaled.npy')\n",
    "data_sim = np.load('datasets/data_sim_scaled_images.npy')\n",
    "labels_sim = np.load('datasets/data_sim_scaled_labels.npy')"
   ]
  },
  {
   "cell_type": "markdown",
   "metadata": {},
   "source": [
    "Spliting data to train set and test set"
   ]
  },
  {
   "cell_type": "code",
   "execution_count": 3,
   "metadata": {},
   "outputs": [],
   "source": [
    "data_A_train = data_sim[0:8000, :,:,0]\n",
    "data_A_test = data_sim[8000:10000,:,:,0]\n",
    "data_B_train = data_sim[0:8000, :,:,1]\n",
    "data_B_test = data_sim[8000:10000,:,:,1]\n",
    "labels_sim_train = labels_sim[0:8000]\n",
    "labels_sim_test = labels_sim[8000:10000]\n",
    "labels2_train = np_utils.to_categorical(labels_sim_train)\n",
    "labels2_test = np_utils.to_categorical(labels_sim_test)\n"
   ]
  },
  {
   "cell_type": "code",
   "execution_count": 4,
   "metadata": {},
   "outputs": [],
   "source": [
    "#we need to transform labels to format (N,2) - now is only (N,1)"
   ]
  },
  {
   "cell_type": "markdown",
   "metadata": {},
   "source": [
    "CNN - double input"
   ]
  },
  {
   "cell_type": "code",
   "execution_count": 5,
   "metadata": {},
   "outputs": [],
   "source": [
    "from keras.models import Model\n",
    "from keras.layers import Input, Dense, Flatten\n",
    "from keras import backend as K\n"
   ]
  },
  {
   "cell_type": "code",
   "execution_count": 6,
   "metadata": {},
   "outputs": [],
   "source": [
    "inputA = keras.layers.Input(shape=(21,21))\n",
    "inputB = keras.layers.Input(shape=(21,21))\n",
    "\n",
    "# the first branch operates on the first input\n",
    "x = Dense(64, activation=\"relu\")(inputA)\n",
    "x = Dense(32, activation=\"relu\")(x)\n",
    "x = Dense(8, activation=\"relu\")(x)\n",
    "x = Dense(4, activation=\"relu\")(x)\n",
    "#x = Model(inputs=inputA, outputs=x)\n",
    " \n",
    "# the second branch opreates on the second input\n",
    "y = Dense(64, activation=\"relu\")(inputB)\n",
    "y = Dense(32, activation=\"relu\")(y)\n",
    "y = Dense(8, activation=\"relu\")(y)\n",
    "y = Dense(4, activation=\"relu\")(y)\n",
    "#y = Model(inputs=inputB, outputs=y)\n",
    " \n",
    "# combine the output of the two branches\n",
    "z = keras.layers.concatenate([x, y], axis=-1)\n",
    " \n",
    "# apply a FC layer and then a regression prediction on the\n",
    "# combined outputs\n",
    "z = keras.layers.Flatten()(z)\n",
    "z= Dense(128, activation='relu')(z)\n",
    "z= Dense(64, activation='relu')(z)\n",
    "z= Dense(2, activation='softmax')(z)\n",
    " \n",
    "# our model will accept the inputs of the two branches and\n",
    "# then output a single value\n",
    "#model = Model(inputs=[x.input, y.input], outputs=z)\n",
    "model = Model(inputs=[inputA, inputB], outputs=z)"
   ]
  },
  {
   "cell_type": "code",
   "execution_count": 7,
   "metadata": {},
   "outputs": [],
   "source": [
    "np.random.seed(4623874)"
   ]
  },
  {
   "cell_type": "code",
   "execution_count": 8,
   "metadata": {},
   "outputs": [],
   "source": [
    "model.compile(optimizer='adam',\n",
    "          loss='binary_crossentropy',\n",
    "          metrics=['accuracy'])"
   ]
  },
  {
   "cell_type": "code",
   "execution_count": 9,
   "metadata": {},
   "outputs": [
    {
     "name": "stdout",
     "output_type": "stream",
     "text": [
      "Model: \"model_1\"\n",
      "__________________________________________________________________________________________________\n",
      "Layer (type)                    Output Shape         Param #     Connected to                     \n",
      "==================================================================================================\n",
      "input_1 (InputLayer)            (None, 21, 21)       0                                            \n",
      "__________________________________________________________________________________________________\n",
      "input_2 (InputLayer)            (None, 21, 21)       0                                            \n",
      "__________________________________________________________________________________________________\n",
      "dense_1 (Dense)                 (None, 21, 64)       1408        input_1[0][0]                    \n",
      "__________________________________________________________________________________________________\n",
      "dense_5 (Dense)                 (None, 21, 64)       1408        input_2[0][0]                    \n",
      "__________________________________________________________________________________________________\n",
      "dense_2 (Dense)                 (None, 21, 32)       2080        dense_1[0][0]                    \n",
      "__________________________________________________________________________________________________\n",
      "dense_6 (Dense)                 (None, 21, 32)       2080        dense_5[0][0]                    \n",
      "__________________________________________________________________________________________________\n",
      "dense_3 (Dense)                 (None, 21, 8)        264         dense_2[0][0]                    \n",
      "__________________________________________________________________________________________________\n",
      "dense_7 (Dense)                 (None, 21, 8)        264         dense_6[0][0]                    \n",
      "__________________________________________________________________________________________________\n",
      "dense_4 (Dense)                 (None, 21, 4)        36          dense_3[0][0]                    \n",
      "__________________________________________________________________________________________________\n",
      "dense_8 (Dense)                 (None, 21, 4)        36          dense_7[0][0]                    \n",
      "__________________________________________________________________________________________________\n",
      "concatenate_1 (Concatenate)     (None, 21, 8)        0           dense_4[0][0]                    \n",
      "                                                                 dense_8[0][0]                    \n",
      "__________________________________________________________________________________________________\n",
      "flatten_1 (Flatten)             (None, 168)          0           concatenate_1[0][0]              \n",
      "__________________________________________________________________________________________________\n",
      "dense_9 (Dense)                 (None, 128)          21632       flatten_1[0][0]                  \n",
      "__________________________________________________________________________________________________\n",
      "dense_10 (Dense)                (None, 64)           8256        dense_9[0][0]                    \n",
      "__________________________________________________________________________________________________\n",
      "dense_11 (Dense)                (None, 2)            130         dense_10[0][0]                   \n",
      "==================================================================================================\n",
      "Total params: 37,594\n",
      "Trainable params: 37,594\n",
      "Non-trainable params: 0\n",
      "__________________________________________________________________________________________________\n"
     ]
    }
   ],
   "source": [
    "model.summary()"
   ]
  },
  {
   "cell_type": "code",
   "execution_count": 10,
   "metadata": {},
   "outputs": [
    {
     "name": "stdout",
     "output_type": "stream",
     "text": [
      "WARNING:tensorflow:From /home/kasiawardega/anaconda3/lib/python3.7/site-packages/tensorflow/python/ops/math_grad.py:1250: add_dispatch_support.<locals>.wrapper (from tensorflow.python.ops.array_ops) is deprecated and will be removed in a future version.\n",
      "Instructions for updating:\n",
      "Use tf.where in 2.0, which has the same broadcast rule as np.where\n",
      "WARNING:tensorflow:From /home/kasiawardega/anaconda3/lib/python3.7/site-packages/keras/backend/tensorflow_backend.py:422: The name tf.global_variables is deprecated. Please use tf.compat.v1.global_variables instead.\n",
      "\n",
      "Train on 8000 samples, validate on 2000 samples\n",
      "Epoch 1/30\n",
      "8000/8000 [==============================] - 3s 378us/step - loss: 0.0388 - accuracy: 0.9859 - val_loss: 0.0071 - val_accuracy: 0.9970\n",
      "Epoch 2/30\n",
      "8000/8000 [==============================] - 2s 259us/step - loss: 0.0014 - accuracy: 0.9998 - val_loss: 1.8817e-05 - val_accuracy: 1.0000\n",
      "Epoch 3/30\n",
      "8000/8000 [==============================] - 1s 171us/step - loss: 0.0024 - accuracy: 0.9992 - val_loss: 9.1440e-04 - val_accuracy: 0.9995\n",
      "Epoch 4/30\n",
      "8000/8000 [==============================] - 1s 135us/step - loss: 1.0626e-04 - accuracy: 0.9999 - val_loss: 4.0127e-06 - val_accuracy: 1.0000\n",
      "Epoch 5/30\n",
      "8000/8000 [==============================] - 1s 117us/step - loss: 6.6226e-06 - accuracy: 1.0000 - val_loss: 3.4101e-06 - val_accuracy: 1.0000\n",
      "Epoch 6/30\n",
      "8000/8000 [==============================] - 2s 195us/step - loss: 4.4089e-06 - accuracy: 1.0000 - val_loss: 3.1832e-06 - val_accuracy: 1.0000\n",
      "Epoch 7/30\n",
      "8000/8000 [==============================] - 1s 118us/step - loss: 2.2297e-06 - accuracy: 1.0000 - val_loss: 1.6278e-06 - val_accuracy: 1.0000\n",
      "Epoch 8/30\n",
      "8000/8000 [==============================] - 1s 117us/step - loss: 9.5591e-07 - accuracy: 1.0000 - val_loss: 8.1319e-07 - val_accuracy: 1.0000\n",
      "Epoch 9/30\n",
      "8000/8000 [==============================] - 1s 160us/step - loss: 6.7639e-07 - accuracy: 1.0000 - val_loss: 8.9003e-07 - val_accuracy: 1.0000\n",
      "Epoch 10/30\n",
      "8000/8000 [==============================] - 3s 329us/step - loss: 5.4447e-07 - accuracy: 1.0000 - val_loss: 7.7113e-07 - val_accuracy: 1.0000\n",
      "Epoch 11/30\n",
      "8000/8000 [==============================] - 2s 291us/step - loss: 4.5202e-07 - accuracy: 1.0000 - val_loss: 5.4045e-07 - val_accuracy: 1.0000\n",
      "Epoch 12/30\n",
      "8000/8000 [==============================] - 2s 261us/step - loss: 4.0894e-07 - accuracy: 1.0000 - val_loss: 5.7850e-07 - val_accuracy: 1.0000\n",
      "Epoch 13/30\n",
      "8000/8000 [==============================] - 2s 205us/step - loss: 3.4689e-07 - accuracy: 1.0000 - val_loss: 5.5869e-07 - val_accuracy: 1.0000\n",
      "Epoch 14/30\n",
      "8000/8000 [==============================] - 1s 117us/step - loss: 2.9762e-07 - accuracy: 1.0000 - val_loss: 3.9525e-07 - val_accuracy: 1.0000\n",
      "Epoch 15/30\n",
      "8000/8000 [==============================] - 2s 188us/step - loss: 2.6129e-07 - accuracy: 1.0000 - val_loss: 4.5605e-07 - val_accuracy: 1.0000\n",
      "Epoch 16/30\n",
      "8000/8000 [==============================] - 1s 106us/step - loss: 1.9101e-07 - accuracy: 1.0000 - val_loss: 2.6088e-07 - val_accuracy: 1.0000\n",
      "Epoch 17/30\n",
      "8000/8000 [==============================] - 2s 252us/step - loss: 1.9411e-07 - accuracy: 1.0000 - val_loss: 2.4567e-07 - val_accuracy: 1.0000\n",
      "Epoch 18/30\n",
      "8000/8000 [==============================] - 2s 207us/step - loss: 1.6117e-07 - accuracy: 1.0000 - val_loss: 3.8634e-07 - val_accuracy: 1.0000\n",
      "Epoch 19/30\n",
      "8000/8000 [==============================] - 3s 372us/step - loss: 1.2234e-07 - accuracy: 1.0000 - val_loss: 3.8914e-07 - val_accuracy: 1.0000\n",
      "Epoch 20/30\n",
      "8000/8000 [==============================] - 1s 158us/step - loss: 1.0163e-07 - accuracy: 1.0000 - val_loss: 2.9805e-07 - val_accuracy: 1.0000\n",
      "Epoch 21/30\n",
      "8000/8000 [==============================] - 1s 150us/step - loss: 8.0669e-08 - accuracy: 1.0000 - val_loss: 2.7785e-07 - val_accuracy: 1.0000\n",
      "Epoch 22/30\n",
      "8000/8000 [==============================] - 2s 201us/step - loss: 6.6677e-08 - accuracy: 1.0000 - val_loss: 2.6083e-07 - val_accuracy: 1.0000\n",
      "Epoch 23/30\n",
      "8000/8000 [==============================] - 2s 201us/step - loss: 5.5377e-08 - accuracy: 1.0000 - val_loss: 1.9297e-07 - val_accuracy: 1.0000\n",
      "Epoch 24/30\n",
      "8000/8000 [==============================] - 1s 157us/step - loss: 4.0815e-08 - accuracy: 1.0000 - val_loss: 1.5951e-07 - val_accuracy: 1.0000\n",
      "Epoch 25/30\n",
      "8000/8000 [==============================] - 2s 266us/step - loss: 3.2965e-08 - accuracy: 1.0000 - val_loss: 1.6186e-07 - val_accuracy: 1.0000\n",
      "Epoch 26/30\n",
      "8000/8000 [==============================] - 1s 121us/step - loss: 2.5682e-08 - accuracy: 1.0000 - val_loss: 1.1284e-07 - val_accuracy: 1.0000\n",
      "Epoch 27/30\n",
      "8000/8000 [==============================] - 3s 417us/step - loss: 2.1041e-08 - accuracy: 1.0000 - val_loss: 1.0169e-07 - val_accuracy: 1.0000\n",
      "Epoch 28/30\n",
      "8000/8000 [==============================] - 1s 128us/step - loss: 1.6470e-08 - accuracy: 1.0000 - val_loss: 1.0231e-07 - val_accuracy: 1.0000\n",
      "Epoch 29/30\n",
      "8000/8000 [==============================] - 2s 262us/step - loss: 1.3176e-08 - accuracy: 1.0000 - val_loss: 5.7581e-08 - val_accuracy: 1.0000\n",
      "Epoch 30/30\n",
      "8000/8000 [==============================] - 1s 180us/step - loss: 1.0081e-08 - accuracy: 1.0000 - val_loss: 7.5241e-08 - val_accuracy: 1.0000\n"
     ]
    }
   ],
   "source": [
    "history = model.fit([data_A_train, data_B_train],labels2_train, validation_data=([data_A_test, data_B_test], labels2_test), batch_size=20, epochs=30)\n",
    "\n",
    "#model.fit([data_A, data_B],labels2, batch_size=20, epochs=20)\n"
   ]
  },
  {
   "cell_type": "code",
   "execution_count": 21,
   "metadata": {},
   "outputs": [],
   "source": [
    "model.save(\"NNdouble.h5\")"
   ]
  },
  {
   "cell_type": "code",
   "execution_count": null,
   "metadata": {},
   "outputs": [],
   "source": [
    "model = load_model(\"CNNdouble_acc09.h5\")"
   ]
  },
  {
   "cell_type": "code",
   "execution_count": 22,
   "metadata": {},
   "outputs": [
    {
     "data": {
      "image/png": "[encoded data removed]",
      "text/plain": [
       "<Figure size 432x288 with 1 Axes>"
      ]
     },
     "metadata": {
      "needs_background": "light"
     },
     "output_type": "display_data"
    }
   ],
   "source": [
    "# summarize history for accuracy\n",
    "plt.plot(history.history['accuracy'])\n",
    "plt.plot(history.history['val_accuracy'])\n",
    "plt.title('model accuracy')\n",
    "plt.ylabel('accuracy')\n",
    "plt.xlabel('epoch')\n",
    "plt.legend(['train', 'test'], loc='upper left')\n",
    "plt.savefig('accuracy_fun.png')\n",
    "plt.show()"
   ]
  },
  {
   "cell_type": "code",
   "execution_count": 23,
   "metadata": {
    "scrolled": false
   },
   "outputs": [
    {
     "data": {
      "image/png": "[encoded data removed]",
      "text/plain": [
       "<Figure size 432x288 with 1 Axes>"
      ]
     },
     "metadata": {
      "needs_background": "light"
     },
     "output_type": "display_data"
    }
   ],
   "source": [
    "# summarize history for loss\n",
    "plt.plot(history.history['loss'])\n",
    "plt.plot(history.history['val_loss'])\n",
    "plt.title('model loss')\n",
    "plt.ylabel('loss')\n",
    "plt.xlabel('epoch')\n",
    "plt.legend(['train', 'test'], loc='upper left')\n",
    "plt.savefig('loss_function_fun.png')\n",
    "plt.show()\n"
   ]
  },
  {
   "cell_type": "code",
   "execution_count": 13,
   "metadata": {},
   "outputs": [],
   "source": [
    "galaxyA = data_galaxy[:,:,:,0]\n",
    "galaxyB = data_galaxy[:,:,:,1]"
   ]
  },
  {
   "cell_type": "code",
   "execution_count": 11,
   "metadata": {},
   "outputs": [],
   "source": [
    "labelsx = model.predict([data_galaxy[528:529,:,:,0],data_galaxy[528:529,:,:,1]])"
   ]
  },
  {
   "cell_type": "code",
   "execution_count": 12,
   "metadata": {},
   "outputs": [
    {
     "data": {
      "text/plain": [
       "array([[0.8880548 , 0.11194526]], dtype=float32)"
      ]
     },
     "execution_count": 12,
     "metadata": {},
     "output_type": "execute_result"
    }
   ],
   "source": [
    "labelsx"
   ]
  },
  {
   "cell_type": "code",
   "execution_count": 13,
   "metadata": {},
   "outputs": [],
   "source": [
    "labelsx2 = model.predict([data_galaxy[:,:,:,0],data_galaxy[:,:,:,1]])"
   ]
  },
  {
   "cell_type": "code",
   "execution_count": null,
   "metadata": {},
   "outputs": [],
   "source": []
  },
  {
   "cell_type": "code",
   "execution_count": 18,
   "metadata": {},
   "outputs": [
    {
     "data": {
      "text/plain": [
       "(array([309.,   1.,   0.,   1.,   1.,   1.,   0.,   0.,   0.,   0.,   0.,\n",
       "          0.,   0.,   0.,   0.,   0.,   0.,   0.,   0.,   0.,   1.,   0.,\n",
       "          0.,   0.,   0.,   0.,   0.,   0.,   0.,   0.,   0.,   0.,   0.,\n",
       "          0.,   0.,   0.,   1.,   0.,   0.,   0.,   0.,   0.,   0.,   1.,\n",
       "          0.,   0.,   0.,   0.,   1., 323.]),\n",
       " array([0.  , 0.02, 0.04, 0.06, 0.08, 0.1 , 0.12, 0.14, 0.16, 0.18, 0.2 ,\n",
       "        0.22, 0.24, 0.26, 0.28, 0.3 , 0.32, 0.34, 0.36, 0.38, 0.4 , 0.42,\n",
       "        0.44, 0.46, 0.48, 0.5 , 0.52, 0.54, 0.56, 0.58, 0.6 , 0.62, 0.64,\n",
       "        0.66, 0.68, 0.7 , 0.72, 0.74, 0.76, 0.78, 0.8 , 0.82, 0.84, 0.86,\n",
       "        0.88, 0.9 , 0.92, 0.94, 0.96, 0.98, 1.  ], dtype=float32),\n",
       " <a list of 50 Patch objects>)"
      ]
     },
     "execution_count": 18,
     "metadata": {},
     "output_type": "execute_result"
    },
    {
     "data": {
      "image/png": "[encoded data removed]",
      "text/plain": [
       "<Figure size 432x288 with 1 Axes>"
      ]
     },
     "metadata": {
      "needs_background": "light"
     },
     "output_type": "display_data"
    }
   ],
   "source": [
    "plt.hist(labelsx2[:,1], bins = 50)"
   ]
  },
  {
   "cell_type": "code",
   "execution_count": 14,
   "metadata": {},
   "outputs": [],
   "source": [
    "labels3 = model.predict([galaxyA,galaxyB])"
   ]
  },
  {
   "cell_type": "code",
   "execution_count": 45,
   "metadata": {},
   "outputs": [],
   "source": [
    "#labels3 = np.round(labels3)"
   ]
  },
  {
   "cell_type": "code",
   "execution_count": 15,
   "metadata": {},
   "outputs": [],
   "source": [
    "labels3_pred = np.argmax(labels3, axis=-1)"
   ]
  },
  {
   "cell_type": "code",
   "execution_count": 16,
   "metadata": {},
   "outputs": [
    {
     "data": {
      "text/plain": [
       "array([0, 0, 0, 0, 0, 0, 0, 0, 0, 0, 0, 0, 0, 0, 0, 0, 0, 0, 0, 0, 0, 0,\n",
       "       0, 0, 0, 0, 0, 0, 1, 0, 0, 0, 0, 0, 0, 0, 0, 0, 0, 0, 0, 0, 0, 0,\n",
       "       0, 0, 0, 0, 0, 0, 0, 0, 0, 0, 0, 0, 0, 0, 0, 0, 0, 0, 0, 0, 0, 0,\n",
       "       0, 0, 0, 0, 0, 0, 0, 0, 0, 0, 0, 0, 0, 0, 0, 0, 0, 0, 0, 0, 0, 0,\n",
       "       0, 0, 0, 0, 0, 0, 0, 0, 0, 0, 0, 0, 0, 0, 0, 0, 0, 0, 0, 0, 0, 0,\n",
       "       0, 0, 0, 0, 0, 0, 0, 0, 0, 0, 0, 0, 0, 0, 0, 0, 0, 0, 0, 0, 0, 0,\n",
       "       0, 0, 0, 0, 0, 0, 0, 0, 0, 0, 0, 0, 0, 0, 0, 0, 0, 0, 0, 0, 0, 0,\n",
       "       0, 0, 0, 0, 0, 0, 0, 0, 0, 0, 0, 0, 0, 0, 0, 0, 0, 0, 0, 0, 0, 0,\n",
       "       0, 0, 0, 0, 0, 0, 0, 0, 0, 0, 0, 0, 0, 0, 0, 0, 0, 0, 0, 0, 0, 0,\n",
       "       0, 0, 0, 0, 0, 0, 0, 0, 0, 0, 0, 0, 0, 0, 0, 0, 0, 0, 0, 0, 0, 0,\n",
       "       0, 0, 0, 0, 0, 0, 0, 0, 0, 0, 0, 0, 0, 0, 0, 0, 0, 0, 0, 0, 0, 0,\n",
       "       0, 0, 0, 0, 0, 0, 0, 0, 0, 0, 0, 0, 0, 0, 0, 0, 0, 0, 0, 0, 0, 0,\n",
       "       0, 0, 0, 0, 0, 0, 0, 0, 0, 0, 0, 0, 0, 0, 0, 0, 0, 0, 0, 0, 0, 0,\n",
       "       0, 0, 0, 0, 0, 0, 0, 0, 0, 1, 0, 0, 0, 0, 0, 0, 0, 0, 0, 0, 0, 0,\n",
       "       0, 0, 0, 0, 0, 0, 1, 0, 0, 0, 0, 0, 1, 1, 1, 1, 1, 1, 1, 1, 1, 1,\n",
       "       1, 1, 1, 1, 1, 1, 1, 1, 1, 1, 1, 1, 1, 1, 1, 1, 1, 1, 1, 1, 1, 1,\n",
       "       1, 1, 1, 1, 1, 1, 1, 1, 1, 1, 1, 1, 1, 1, 1, 1, 1, 1, 1, 1, 1, 1,\n",
       "       1, 1, 1, 1, 1, 1, 1, 1, 1, 1, 1, 1, 1, 1, 1, 1, 1, 1, 1, 1, 1, 1,\n",
       "       1, 1, 1, 1, 1, 1, 1, 1, 1, 1, 1, 1, 1, 1, 1, 1, 1, 1, 1, 1, 1, 1,\n",
       "       1, 1, 1, 1, 1, 1, 1, 1, 1, 1, 1, 1, 1, 1, 1, 1, 1, 1, 1, 1, 1, 1,\n",
       "       1, 1, 1, 1, 1, 1, 1, 1, 1, 1, 1, 1, 1, 1, 1, 1, 1, 1, 1, 1, 1, 1,\n",
       "       1, 1, 1, 1, 1, 1, 1, 1, 1, 1, 1, 1, 1, 1, 1, 1, 1, 1, 1, 1, 1, 1,\n",
       "       1, 1, 1, 1, 1, 1, 1, 1, 1, 1, 1, 1, 1, 1, 1, 1, 1, 1, 1, 1, 1, 1,\n",
       "       1, 1, 1, 1, 1, 1, 1, 1, 1, 1, 1, 1, 1, 1, 1, 1, 1, 1, 1, 1, 1, 1,\n",
       "       0, 1, 1, 1, 1, 1, 1, 1, 1, 1, 1, 1, 1, 1, 1, 1, 1, 1, 1, 1, 1, 1,\n",
       "       1, 1, 1, 1, 1, 1, 1, 1, 1, 1, 1, 1, 1, 1, 1, 1, 1, 1, 1, 1, 1, 1,\n",
       "       1, 1, 1, 1, 1, 1, 1, 1, 1, 1, 1, 1, 1, 1, 1, 1, 1, 1, 1, 1, 1, 1,\n",
       "       1, 1, 1, 1, 1, 1, 1, 1, 1, 1, 1, 1, 1, 1, 1, 1, 1, 1, 1, 1, 1, 1,\n",
       "       1, 1, 1, 1, 1, 1, 1, 1, 1, 1, 1, 1, 1, 1, 1, 1, 1, 1, 1, 1, 1, 1,\n",
       "       1, 1])"
      ]
     },
     "execution_count": 16,
     "metadata": {},
     "output_type": "execute_result"
    }
   ],
   "source": [
    "labels3_pred"
   ]
  },
  {
   "cell_type": "code",
   "execution_count": 17,
   "metadata": {},
   "outputs": [
    {
     "data": {
      "text/plain": [
       "0.99375"
      ]
     },
     "execution_count": 17,
     "metadata": {},
     "output_type": "execute_result"
    }
   ],
   "source": [
    "accuracy_score(labels_galaxy, labels3_pred)"
   ]
  },
  {
   "cell_type": "code",
   "execution_count": 18,
   "metadata": {},
   "outputs": [],
   "source": [
    "from sklearn.metrics import confusion_matrix"
   ]
  },
  {
   "cell_type": "code",
   "execution_count": 19,
   "metadata": {},
   "outputs": [
    {
     "data": {
      "text/plain": [
       "array([[317,   3],\n",
       "       [  1, 319]])"
      ]
     },
     "execution_count": 19,
     "metadata": {},
     "output_type": "execute_result"
    }
   ],
   "source": [
    "confusion_matrix(labels_galaxy, labels3_pred)"
   ]
  },
  {
   "cell_type": "code",
   "execution_count": 20,
   "metadata": {},
   "outputs": [
    {
     "data": {
      "text/plain": [
       "0"
      ]
     },
     "execution_count": 20,
     "metadata": {},
     "output_type": "execute_result"
    }
   ],
   "source": [
    "labels3_pred[528]"
   ]
  },
  {
   "cell_type": "code",
   "execution_count": 28,
   "metadata": {},
   "outputs": [
    {
     "data": {
      "text/plain": [
       "<matplotlib.image.AxesImage at 0x7fc4b03dc518>"
      ]
     },
     "execution_count": 28,
     "metadata": {},
     "output_type": "execute_result"
    },
    {
     "data": {
      "image/png": "[encoded data removed]",
      "text/plain": [
       "<Figure size 432x288 with 1 Axes>"
      ]
     },
     "metadata": {
      "needs_background": "light"
     },
     "output_type": "display_data"
    }
   ],
   "source": [
    "plt.imshow(data_galaxy[528,:,:,1])"
   ]
  },
  {
   "cell_type": "code",
   "execution_count": 29,
   "metadata": {},
   "outputs": [
    {
     "data": {
      "text/plain": [
       "<matplotlib.image.AxesImage at 0x7fc4b033f240>"
      ]
     },
     "execution_count": 29,
     "metadata": {},
     "output_type": "execute_result"
    },
    {
     "data": {
      "image/png": "[encoded data removed]",
      "text/plain": [
       "<Figure size 432x288 with 1 Axes>"
      ]
     },
     "metadata": {
      "needs_background": "light"
     },
     "output_type": "display_data"
    }
   ],
   "source": [
    "plt.imshow(data_galaxy[528,:,:,0])"
   ]
  },
  {
   "cell_type": "code",
   "execution_count": null,
   "metadata": {},
   "outputs": [],
   "source": []
  }
 ],
 "metadata": {
  "kernelspec": {
   "display_name": "Python 3",
   "language": "python",
   "name": "python3"
  },
  "language_info": {
   "codemirror_mode": {
    "name": "ipython",
    "version": 3
   },
   "file_extension": ".py",
   "mimetype": "text/x-python",
   "name": "python",
   "nbconvert_exporter": "python",
   "pygments_lexer": "ipython3",
   "version": "3.7.3"
  }
 },
 "nbformat": 4,
 "nbformat_minor": 2
}
