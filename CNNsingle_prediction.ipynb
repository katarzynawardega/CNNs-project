{
 "cells": [
  {
   "cell_type": "code",
   "execution_count": 4,
   "metadata": {},
   "outputs": [],
   "source": [
    "import matplotlib.pyplot as plt\n",
    "%matplotlib inline\n",
    "\n",
    "import sep\n",
    "import math\n",
    "import keras\n",
    "from keras.utils import np_utils\n",
    "from keras.models import load_model\n",
    "\n",
    "import numpy as np\n",
    "from astropy.io import fits\n",
    "\n",
    "import random \n",
    "import aplpy\n",
    "\n",
    "\n",
    "from sklearn.metrics import accuracy_score\n",
    "from sklearn.metrics import confusion_matrix\n",
    "\n",
    "np.random.seed(123)  # for reproducibility"
   ]
  },
  {
   "cell_type": "markdown",
   "metadata": {},
   "source": [
    "DOWNLOADING CNN MODEL "
   ]
  },
  {
   "cell_type": "code",
   "execution_count": 5,
   "metadata": {},
   "outputs": [
    {
     "name": "stdout",
     "output_type": "stream",
     "text": [
      "WARNING:tensorflow:From /home/kasiawardega/anaconda3/lib/python3.7/site-packages/keras/backend/tensorflow_backend.py:4070: The name tf.nn.max_pool is deprecated. Please use tf.nn.max_pool2d instead.\n",
      "\n",
      "WARNING:tensorflow:From /home/kasiawardega/anaconda3/lib/python3.7/site-packages/tensorflow/python/ops/math_grad.py:1250: add_dispatch_support.<locals>.wrapper (from tensorflow.python.ops.array_ops) is deprecated and will be removed in a future version.\n",
      "Instructions for updating:\n",
      "Use tf.where in 2.0, which has the same broadcast rule as np.where\n",
      "WARNING:tensorflow:From /home/kasiawardega/anaconda3/lib/python3.7/site-packages/keras/backend/tensorflow_backend.py:422: The name tf.global_variables is deprecated. Please use tf.compat.v1.global_variables instead.\n",
      "\n"
     ]
    }
   ],
   "source": [
    "model = load_model(\"CNNsingle.h5\")"
   ]
  },
  {
   "cell_type": "markdown",
   "metadata": {},
   "source": [
    "DOWNLOADING DATA"
   ]
  },
  {
   "cell_type": "code",
   "execution_count": 8,
   "metadata": {},
   "outputs": [],
   "source": [
    "data_galaxy = np.load('datasets/galaxy_ic4559_images_scaled.npy')\n",
    "labels_galaxy = np.load('datasets/galaxy_ic4559_labels_scaled.npy')"
   ]
  },
  {
   "cell_type": "markdown",
   "metadata": {},
   "source": [
    "PREDICTION"
   ]
  },
  {
   "cell_type": "code",
   "execution_count": 10,
   "metadata": {},
   "outputs": [],
   "source": [
    "labels_predict = model.predict(data_galaxy)"
   ]
  },
  {
   "cell_type": "code",
   "execution_count": 11,
   "metadata": {},
   "outputs": [],
   "source": [
    "labels_predict2 = np.argmax(labels_predict, axis=-1)"
   ]
  },
  {
   "cell_type": "code",
   "execution_count": 12,
   "metadata": {},
   "outputs": [
    {
     "data": {
      "text/plain": [
       "0.9921875"
      ]
     },
     "execution_count": 12,
     "metadata": {},
     "output_type": "execute_result"
    }
   ],
   "source": [
    "accuracy_score(labels_galaxy, labels_predict2)"
   ]
  },
  {
   "cell_type": "code",
   "execution_count": 13,
   "metadata": {},
   "outputs": [
    {
     "data": {
      "text/plain": [
       "array([[315,   5],\n",
       "       [  0, 320]])"
      ]
     },
     "execution_count": 13,
     "metadata": {},
     "output_type": "execute_result"
    }
   ],
   "source": [
    "confusion_matrix(labels_galaxy, labels_predict2)"
   ]
  },
  {
   "cell_type": "code",
   "execution_count": 15,
   "metadata": {},
   "outputs": [],
   "source": [
    "def prediction (data, labels):\n",
    "    labels_predict = model.predict(data)\n",
    "    labels_predict2 = np.argmax(labels_predict, axis=-1)\n",
    "    acc = accuracy_score(labels, labels_predict2)\n",
    "    conf_mat = confusion_matrix(labels, labels_predict2)\n",
    "    \n",
    "    return acc, conf_mat\n",
    "    "
   ]
  },
  {
   "cell_type": "code",
   "execution_count": 35,
   "metadata": {},
   "outputs": [
    {
     "name": "stdout",
     "output_type": "stream",
     "text": [
      "[[315   5]\n",
      " [  0 320]] 0.9921875\n"
     ]
    }
   ],
   "source": [
    "accuracy, matrix = prediction(data_galaxy, labels_galaxy)\n",
    "print(matrix,accuracy)\n"
   ]
  },
  {
   "cell_type": "code",
   "execution_count": 34,
   "metadata": {},
   "outputs": [
    {
     "name": "stdout",
     "output_type": "stream",
     "text": [
      "[[405   5]\n",
      " [  2 408]] 0.9914634146341463\n"
     ]
    }
   ],
   "source": [
    "data_galaxy_pgc21577 = np.load('datasets/galaxy_pgc21577_images_scaled.npy')\n",
    "labels_galaxy_pgc21577 = np.load('datasets/galaxy_pgc21577_labels_scaled.npy')\n",
    "accuracy2, matrix2 = prediction(data_galaxy_pgc21577, labels_galaxy_pgc21577)\n",
    "print(matrix2,accuracy2)\n"
   ]
  },
  {
   "cell_type": "code",
   "execution_count": 33,
   "metadata": {},
   "outputs": [
    {
     "name": "stdout",
     "output_type": "stream",
     "text": [
      "[[339   7]\n",
      " [  3 343]] 0.9855491329479769\n"
     ]
    }
   ],
   "source": [
    "data_galaxy_pgc21708 = np.load('datasets/galaxy_pgc21708_images_scaled.npy')\n",
    "labels_galaxy_pgc21708 = np.load('datasets/galaxy_pgc21708_labels_scaled.npy')\n",
    "accuracy3, matrix3 = prediction(data_galaxy_pgc21708, labels_galaxy_pgc21708)\n",
    "print(matrix3,accuracy3)"
   ]
  },
  {
   "cell_type": "code",
   "execution_count": 32,
   "metadata": {},
   "outputs": [
    {
     "name": "stdout",
     "output_type": "stream",
     "text": [
      "[[317  11]\n",
      " [  1 327]] 0.9817073170731707\n"
     ]
    }
   ],
   "source": [
    "data_galaxy_pgc21747 = np.load('datasets/galaxy_pgc21747_images_scaled.npy')\n",
    "labels_galaxy_pgc21747 = np.load('datasets/galaxy_pgc21747_labels_scaled.npy')\n",
    "accuracy4, matrix4 = prediction(data_galaxy_pgc21747, labels_galaxy_pgc21747)\n",
    "print(matrix4, accuracy4)"
   ]
  },
  {
   "cell_type": "code",
   "execution_count": 41,
   "metadata": {},
   "outputs": [
    {
     "name": "stdout",
     "output_type": "stream",
     "text": [
      "[[277   4]\n",
      " [  0 281]] 0.9928825622775801\n"
     ]
    }
   ],
   "source": [
    "data_galaxy_pgc21856 = np.load('datasets/galaxy_pgc21856_images_scaled.npy')\n",
    "labels_galaxy_pgc21856 = np.load('datasets/galaxy_pgc21856_labels_scaled.npy')\n",
    "accuracy5, matrix5 = prediction(data_galaxy_pgc21856, labels_galaxy_pgc21856)\n",
    "print(matrix5, accuracy5)"
   ]
  },
  {
   "cell_type": "code",
   "execution_count": null,
   "metadata": {},
   "outputs": [],
   "source": []
  },
  {
   "cell_type": "code",
   "execution_count": 64,
   "metadata": {},
   "outputs": [],
   "source": [
    "def merging_datasets(d1,l1,d2,l2,d3,l3,d4,l4,d5,l5):\n",
    "    \n",
    "           \n",
    "    dataset = np.append(d1,d2, axis=0)\n",
    "    dataset2 = np.append(dataset,d3, axis=0)\n",
    "    dataset3 = np.append(dataset2,d4, axis=0)\n",
    "    dataset4 = np.append(dataset3,d5, axis=0)\n",
    "\n",
    "    labels = np.append(l1,l2, axis=0)\n",
    "    labels2 = np.append(labels,l3, axis=0)\n",
    "    labels3 = np.append(labels2,l4, axis=0)\n",
    "    labels4 = np.append(labels3,l5, axis=0)\n",
    "    \n",
    "    \n",
    "    return dataset4, labels4"
   ]
  },
  {
   "cell_type": "code",
   "execution_count": 65,
   "metadata": {},
   "outputs": [],
   "source": [
    "data, lab = merging_datasets(data_galaxy, labels_galaxy, data_galaxy_pgc21577, labels_galaxy_pgc21577, data_galaxy_pgc21708, labels_galaxy_pgc21708, data_galaxy_pgc21747, labels_galaxy_pgc21747, data_galaxy_pgc21856, labels_galaxy_pgc21856)"
   ]
  },
  {
   "cell_type": "code",
   "execution_count": 66,
   "metadata": {},
   "outputs": [
    {
     "name": "stdout",
     "output_type": "stream",
     "text": [
      "(0.9887240356083086, array([[1653,   32],\n",
      "       [   6, 1679]]))\n"
     ]
    }
   ],
   "source": [
    "print(prediction(data, lab))"
   ]
  },
  {
   "cell_type": "code",
   "execution_count": null,
   "metadata": {},
   "outputs": [],
   "source": []
  },
  {
   "cell_type": "code",
   "execution_count": null,
   "metadata": {},
   "outputs": [],
   "source": []
  }
 ],
 "metadata": {
  "kernelspec": {
   "display_name": "Python 3",
   "language": "python",
   "name": "python3"
  },
  "language_info": {
   "codemirror_mode": {
    "name": "ipython",
    "version": 3
   },
   "file_extension": ".py",
   "mimetype": "text/x-python",
   "name": "python",
   "nbconvert_exporter": "python",
   "pygments_lexer": "ipython3",
   "version": "3.7.3"
  }
 },
 "nbformat": 4,
 "nbformat_minor": 2
}
